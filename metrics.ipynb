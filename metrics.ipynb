{
 "cells": [
  {
   "cell_type": "code",
   "execution_count": 2,
   "id": "b00f3d5b-6278-4d34-9df0-c409bc8c36c3",
   "metadata": {
    "tags": []
   },
   "outputs": [],
   "source": [
    "import re\n",
    "import metrics\n",
    "import importlib\n",
    "import numpy as np\n",
    "import pandas as pd\n",
    "import configparser\n",
    "\n",
    "from sqlalchemy import create_engine"
   ]
  },
  {
   "cell_type": "code",
   "execution_count": 3,
   "id": "fe7508f8-46fb-4765-a643-f788a0e2e8ad",
   "metadata": {
    "tags": []
   },
   "outputs": [],
   "source": [
    "config = configparser.ConfigParser()\n",
    "config.read('config.ini')\n",
    "\n",
    "POSTGRES_DB = config['postgresql']['database']\n",
    "POSTGRES_USER = config['postgresql']['user']\n",
    "POSTGRES_HOST = config['postgresql']['host']\n",
    "POSTGRES_PORT = config['postgresql']['port']\n",
    "POSTGRES_PASSWORD = config['postgresql']['password']\n",
    "\n",
    "engine = create_engine(\n",
    "    f'postgresql+psycopg2://{POSTGRES_USER}:{POSTGRES_PASSWORD}@{POSTGRES_HOST}:{POSTGRES_PORT}/{POSTGRES_DB}')"
   ]
  },
  {
   "cell_type": "code",
   "execution_count": 6,
   "id": "b82c756c-8d01-4294-b47b-101fd7f3eadd",
   "metadata": {
    "tags": []
   },
   "outputs": [],
   "source": [
    "# Load the DataFrames from the database\n",
    "df_db_info = pd.read_sql(\"\"\"SELECT * FROM aidm.db_info;\"\"\", engine)\n",
    "df_schema_info = pd.read_sql(\"\"\"SELECT * FROM aidm.schema_info\"\"\", engine)\n",
    "df_table_info = pd.read_sql(\"\"\"SELECT * FROM aidm.table_info\"\"\", engine)\n",
    "df_feature_info = pd.read_sql(\"\"\"SELECT * FROM aidm.feature_info\"\"\", engine)\n",
    "df_metric_info = pd.read_sql(\"\"\"SELECT * FROM aidm.metric_info;\"\"\", engine)\n",
    "df_table_completeness = pd.read_sql(\"\"\"SELECT * FROM aidm.table_completeness;\"\"\", engine)\n",
    "df_table_uniqueness = pd.read_sql(\"\"\"SELECT * FROM aidm.table_uniqueness;\"\"\", engine)\n",
    "df_table_redundancy = pd.read_sql(\"\"\"SELECT * FROM aidm.table_redundancy;\"\"\", engine)\n",
    "df_table_integration = pd.read_sql(\"\"\"SELECT * FROM aidm.table_pk_fk;\"\"\", engine) \n",
    "df_table_index = pd.read_sql(\"\"\"SELECT * FROM aidm.table_index\"\"\", engine)\n",
    "df_table_comment = pd.read_sql(\"\"\"SELECT * FROM aidm.table_comment\"\"\", engine)"
   ]
  },
  {
   "cell_type": "code",
   "execution_count": 8,
   "id": "1de60b57-5d3c-46d4-9502-c61a1c1c3732",
   "metadata": {
    "tags": []
   },
   "outputs": [],
   "source": [
    "df_user = pd.read_sql(\"\"\"SELECT * FROM hrsv_raw_dataset.users\"\"\", engine)\n",
    "df_logbook = pd.read_sql(\"\"\"SELECT * FROM hrsv_raw_dataset.users\"\"\", engine)\n",
    "df_presence = pd.read_sql(\"\"\"SELECT * FROM hrsv_raw_dataset.presences\"\"\", engine)\n",
    "df_holiday = pd.read_sql(\"\"\"SELECT * FROM hrsv_raw_dataset.holiday\"\"\", engine)\n",
    "df_role = pd.read_sql(\"\"\"SELECT * FROM hrsv_raw_dataset.roles\"\"\", engine)"
   ]
  },
  {
   "cell_type": "code",
   "execution_count": 9,
   "id": "2c131c39-906b-4400-9904-76129b9ad8db",
   "metadata": {
    "tags": []
   },
   "outputs": [
    {
     "data": {
      "text/html": [
       "<div>\n",
       "<style scoped>\n",
       "    .dataframe tbody tr th:only-of-type {\n",
       "        vertical-align: middle;\n",
       "    }\n",
       "\n",
       "    .dataframe tbody tr th {\n",
       "        vertical-align: top;\n",
       "    }\n",
       "\n",
       "    .dataframe thead th {\n",
       "        text-align: right;\n",
       "    }\n",
       "</style>\n",
       "<table border=\"1\" class=\"dataframe\">\n",
       "  <thead>\n",
       "    <tr style=\"text-align: right;\">\n",
       "      <th></th>\n",
       "      <th>_id</th>\n",
       "      <th>name</th>\n",
       "      <th>email</th>\n",
       "      <th>address</th>\n",
       "      <th>phone</th>\n",
       "      <th>image_url</th>\n",
       "      <th>workplace_id</th>\n",
       "      <th>team_id</th>\n",
       "      <th>company_role_id</th>\n",
       "      <th>system_role</th>\n",
       "      <th>fid</th>\n",
       "      <th>is_active</th>\n",
       "      <th>is_verified</th>\n",
       "      <th>is_synced</th>\n",
       "      <th>created_at</th>\n",
       "      <th>updated_at</th>\n",
       "      <th>hashed_password</th>\n",
       "      <th>updated_by</th>\n",
       "    </tr>\n",
       "  </thead>\n",
       "  <tbody>\n",
       "    <tr>\n",
       "      <th>0</th>\n",
       "      <td>64c3838f6099f3a9d66042f6</td>\n",
       "      <td>Ryan Kurniawan</td>\n",
       "      <td>ryan.kurniawan@it.sharingvision.com</td>\n",
       "      <td></td>\n",
       "      <td></td>\n",
       "      <td></td>\n",
       "      <td>76a9a8fc-2eb5-4743-907c-205b5e06323e</td>\n",
       "      <td>c597bcba-2cce-4686-976a-046f331ac01b</td>\n",
       "      <td>9c22f89c-4d39-4456-bdbb-6745ca97cbfc</td>\n",
       "      <td>User</td>\n",
       "      <td>0EuKYex9wJVkzWsAwqaavXliOEz2</td>\n",
       "      <td>True</td>\n",
       "      <td>True</td>\n",
       "      <td>True</td>\n",
       "      <td>2023-05-12 05:13:29</td>\n",
       "      <td>2023-06-19 02:02:03</td>\n",
       "      <td>$2b$12$gMZiraeAaDjV5udiV3MBmefZo7gOQq/57BjZ3z9...</td>\n",
       "      <td>None</td>\n",
       "    </tr>\n",
       "    <tr>\n",
       "      <th>1</th>\n",
       "      <td>64c3838f6099f3a9d66042f8</td>\n",
       "      <td>Herlinda Rosa</td>\n",
       "      <td>herlindarosa77@gmail.com</td>\n",
       "      <td></td>\n",
       "      <td></td>\n",
       "      <td></td>\n",
       "      <td>OX4pqyuuI6muduc5ZbrF</td>\n",
       "      <td>766f85d7-0eb3-4686-8264-0c921c967c44</td>\n",
       "      <td>11188d24-aab0-4d46-93a4-8da4020e2d01</td>\n",
       "      <td>User</td>\n",
       "      <td>0bpDczexdNcl4VYNgJVEgMRyl9k2</td>\n",
       "      <td>True</td>\n",
       "      <td>True</td>\n",
       "      <td>True</td>\n",
       "      <td>2023-05-12 06:52:26</td>\n",
       "      <td>2023-05-12 11:55:54</td>\n",
       "      <td>$2b$12$T..ngsctvdn/VO8NCf//7.cTr5je66g6JR5qVTm...</td>\n",
       "      <td>aL2JQYe1Dqgemta29pXm6YOnAs52</td>\n",
       "    </tr>\n",
       "    <tr>\n",
       "      <th>2</th>\n",
       "      <td>64c3838f6099f3a9d66042f9</td>\n",
       "      <td>Stevefanus</td>\n",
       "      <td>stevefanus@lapi.my.id</td>\n",
       "      <td></td>\n",
       "      <td></td>\n",
       "      <td></td>\n",
       "      <td>a6e20886-d9b9-4c1e-94d1-785acaa5492d</td>\n",
       "      <td>00736315-d91d-4835-af37-28c96ab99673</td>\n",
       "      <td>be36d1f3-afd1-474b-875d-62bf0c9734f4</td>\n",
       "      <td>User</td>\n",
       "      <td>0mTdXB1rN2ffb5wKQt4XO8ZoB3r2</td>\n",
       "      <td>True</td>\n",
       "      <td>True</td>\n",
       "      <td>False</td>\n",
       "      <td>2023-05-12 03:21:41</td>\n",
       "      <td>2023-06-20 09:07:45</td>\n",
       "      <td>$2b$12$OAGaZnmXts2ahZjhtE0Bs.73RKatpt80CjCtKuO...</td>\n",
       "      <td>aL2JQYe1Dqgemta29pXm6YOnAs52</td>\n",
       "    </tr>\n",
       "  </tbody>\n",
       "</table>\n",
       "</div>"
      ],
      "text/plain": [
       "                        _id            name  \\\n",
       "0  64c3838f6099f3a9d66042f6  Ryan Kurniawan   \n",
       "1  64c3838f6099f3a9d66042f8   Herlinda Rosa   \n",
       "2  64c3838f6099f3a9d66042f9      Stevefanus   \n",
       "\n",
       "                                 email address phone image_url  \\\n",
       "0  ryan.kurniawan@it.sharingvision.com                           \n",
       "1             herlindarosa77@gmail.com                           \n",
       "2                stevefanus@lapi.my.id                           \n",
       "\n",
       "                           workplace_id                               team_id  \\\n",
       "0  76a9a8fc-2eb5-4743-907c-205b5e06323e  c597bcba-2cce-4686-976a-046f331ac01b   \n",
       "1                  OX4pqyuuI6muduc5ZbrF  766f85d7-0eb3-4686-8264-0c921c967c44   \n",
       "2  a6e20886-d9b9-4c1e-94d1-785acaa5492d  00736315-d91d-4835-af37-28c96ab99673   \n",
       "\n",
       "                        company_role_id system_role  \\\n",
       "0  9c22f89c-4d39-4456-bdbb-6745ca97cbfc        User   \n",
       "1  11188d24-aab0-4d46-93a4-8da4020e2d01        User   \n",
       "2  be36d1f3-afd1-474b-875d-62bf0c9734f4        User   \n",
       "\n",
       "                            fid  is_active  is_verified  is_synced  \\\n",
       "0  0EuKYex9wJVkzWsAwqaavXliOEz2       True         True       True   \n",
       "1  0bpDczexdNcl4VYNgJVEgMRyl9k2       True         True       True   \n",
       "2  0mTdXB1rN2ffb5wKQt4XO8ZoB3r2       True         True      False   \n",
       "\n",
       "           created_at          updated_at  \\\n",
       "0 2023-05-12 05:13:29 2023-06-19 02:02:03   \n",
       "1 2023-05-12 06:52:26 2023-05-12 11:55:54   \n",
       "2 2023-05-12 03:21:41 2023-06-20 09:07:45   \n",
       "\n",
       "                                     hashed_password  \\\n",
       "0  $2b$12$gMZiraeAaDjV5udiV3MBmefZo7gOQq/57BjZ3z9...   \n",
       "1  $2b$12$T..ngsctvdn/VO8NCf//7.cTr5je66g6JR5qVTm...   \n",
       "2  $2b$12$OAGaZnmXts2ahZjhtE0Bs.73RKatpt80CjCtKuO...   \n",
       "\n",
       "                     updated_by  \n",
       "0                          None  \n",
       "1  aL2JQYe1Dqgemta29pXm6YOnAs52  \n",
       "2  aL2JQYe1Dqgemta29pXm6YOnAs52  "
      ]
     },
     "execution_count": 9,
     "metadata": {},
     "output_type": "execute_result"
    }
   ],
   "source": [
    "df_logbook.head(3)"
   ]
  },
  {
   "cell_type": "markdown",
   "id": "953987f6-9479-419b-935e-66a9fab07d52",
   "metadata": {},
   "source": [
    "### General Function"
   ]
  },
  {
   "cell_type": "code",
   "execution_count": 11,
   "id": "e4b8b187-9c1b-405c-9d81-5a238f3f7c14",
   "metadata": {
    "tags": []
   },
   "outputs": [
    {
     "data": {
      "text/plain": [
       "<module 'metrics' from 'C:\\\\Users\\\\Sony LOQ\\\\Data Science\\\\aidm\\\\Python Functions\\\\metrics.py'>"
      ]
     },
     "execution_count": 11,
     "metadata": {},
     "output_type": "execute_result"
    }
   ],
   "source": [
    "importlib.reload(metrics)"
   ]
  },
  {
   "cell_type": "code",
   "execution_count": 12,
   "id": "d3488968-2705-456c-af13-53a36c6e2495",
   "metadata": {
    "tags": []
   },
   "outputs": [],
   "source": [
    "evaluator = metrics.DataQualityEvaluator(engine)\n",
    "data_service = metrics.DataService(engine)\n",
    "external_data_service = metrics.ExternalDatabaseService()"
   ]
  },
  {
   "cell_type": "code",
   "execution_count": 13,
   "id": "17cb086d-bbc3-478e-a73f-d20a05ce06b7",
   "metadata": {
    "tags": []
   },
   "outputs": [
    {
     "data": {
      "text/html": [
       "<div>\n",
       "<style scoped>\n",
       "    .dataframe tbody tr th:only-of-type {\n",
       "        vertical-align: middle;\n",
       "    }\n",
       "\n",
       "    .dataframe tbody tr th {\n",
       "        vertical-align: top;\n",
       "    }\n",
       "\n",
       "    .dataframe thead th {\n",
       "        text-align: right;\n",
       "    }\n",
       "</style>\n",
       "<table border=\"1\" class=\"dataframe\">\n",
       "  <thead>\n",
       "    <tr style=\"text-align: right;\">\n",
       "      <th></th>\n",
       "      <th>id_db</th>\n",
       "      <th>database</th>\n",
       "      <th>id_schema</th>\n",
       "      <th>schema</th>\n",
       "      <th>id_table</th>\n",
       "      <th>table</th>\n",
       "    </tr>\n",
       "  </thead>\n",
       "  <tbody>\n",
       "    <tr>\n",
       "      <th>0</th>\n",
       "      <td>1</td>\n",
       "      <td>db_data_catalog</td>\n",
       "      <td>2</td>\n",
       "      <td>public</td>\n",
       "      <td>1</td>\n",
       "      <td>datamart_count_attribute</td>\n",
       "    </tr>\n",
       "    <tr>\n",
       "      <th>1</th>\n",
       "      <td>1</td>\n",
       "      <td>db_data_catalog</td>\n",
       "      <td>3</td>\n",
       "      <td>raw_metadata</td>\n",
       "      <td>2</td>\n",
       "      <td>hrsv_metadata_1</td>\n",
       "    </tr>\n",
       "    <tr>\n",
       "      <th>2</th>\n",
       "      <td>1</td>\n",
       "      <td>db_data_catalog</td>\n",
       "      <td>3</td>\n",
       "      <td>raw_metadata</td>\n",
       "      <td>3</td>\n",
       "      <td>hrsv_metadata_2</td>\n",
       "    </tr>\n",
       "    <tr>\n",
       "      <th>3</th>\n",
       "      <td>1</td>\n",
       "      <td>db_data_catalog</td>\n",
       "      <td>3</td>\n",
       "      <td>raw_metadata</td>\n",
       "      <td>4</td>\n",
       "      <td>mariadb_metadata_1</td>\n",
       "    </tr>\n",
       "    <tr>\n",
       "      <th>4</th>\n",
       "      <td>1</td>\n",
       "      <td>db_data_catalog</td>\n",
       "      <td>3</td>\n",
       "      <td>raw_metadata</td>\n",
       "      <td>5</td>\n",
       "      <td>mariadb_metadata_2</td>\n",
       "    </tr>\n",
       "  </tbody>\n",
       "</table>\n",
       "</div>"
      ],
      "text/plain": [
       "   id_db         database  id_schema        schema  id_table  \\\n",
       "0      1  db_data_catalog          2        public         1   \n",
       "1      1  db_data_catalog          3  raw_metadata         2   \n",
       "2      1  db_data_catalog          3  raw_metadata         3   \n",
       "3      1  db_data_catalog          3  raw_metadata         4   \n",
       "4      1  db_data_catalog          3  raw_metadata         5   \n",
       "\n",
       "                      table  \n",
       "0  datamart_count_attribute  \n",
       "1           hrsv_metadata_1  \n",
       "2           hrsv_metadata_2  \n",
       "3        mariadb_metadata_1  \n",
       "4        mariadb_metadata_2  "
      ]
     },
     "execution_count": 13,
     "metadata": {},
     "output_type": "execute_result"
    }
   ],
   "source": [
    "evaluator.table_list().head(5)"
   ]
  },
  {
   "cell_type": "markdown",
   "id": "5b3265d0-4bb1-4a80-afdd-7f8cf8be63f8",
   "metadata": {},
   "source": [
    "### Completeness Function"
   ]
  },
  {
   "cell_type": "code",
   "execution_count": 68,
   "id": "95b3e18a-fd5c-4003-8585-27d2b60e2223",
   "metadata": {
    "tags": []
   },
   "outputs": [
    {
     "data": {
      "text/html": [
       "<div>\n",
       "<style scoped>\n",
       "    .dataframe tbody tr th:only-of-type {\n",
       "        vertical-align: middle;\n",
       "    }\n",
       "\n",
       "    .dataframe tbody tr th {\n",
       "        vertical-align: top;\n",
       "    }\n",
       "\n",
       "    .dataframe thead th {\n",
       "        text-align: right;\n",
       "    }\n",
       "</style>\n",
       "<table border=\"1\" class=\"dataframe\">\n",
       "  <thead>\n",
       "    <tr style=\"text-align: right;\">\n",
       "      <th></th>\n",
       "      <th>row_total</th>\n",
       "      <th>row_null</th>\n",
       "      <th>row_complete</th>\n",
       "      <th>complete_perc</th>\n",
       "    </tr>\n",
       "  </thead>\n",
       "  <tbody>\n",
       "    <tr>\n",
       "      <th>0</th>\n",
       "      <td>251</td>\n",
       "      <td>0</td>\n",
       "      <td>251</td>\n",
       "      <td>100.0</td>\n",
       "    </tr>\n",
       "  </tbody>\n",
       "</table>\n",
       "</div>"
      ],
      "text/plain": [
       "   row_total  row_null  row_complete  complete_perc\n",
       "0        251         0           251          100.0"
      ]
     },
     "execution_count": 68,
     "metadata": {},
     "output_type": "execute_result"
    }
   ],
   "source": [
    "evaluator.completeness_column(df_user[\"name\"])"
   ]
  },
  {
   "cell_type": "code",
   "execution_count": 74,
   "id": "5044c229-4f81-42e3-a04e-f422b90725f4",
   "metadata": {
    "tags": []
   },
   "outputs": [
    {
     "data": {
      "text/html": [
       "<div>\n",
       "<style scoped>\n",
       "    .dataframe tbody tr th:only-of-type {\n",
       "        vertical-align: middle;\n",
       "    }\n",
       "\n",
       "    .dataframe tbody tr th {\n",
       "        vertical-align: top;\n",
       "    }\n",
       "\n",
       "    .dataframe thead th {\n",
       "        text-align: right;\n",
       "    }\n",
       "</style>\n",
       "<table border=\"1\" class=\"dataframe\">\n",
       "  <thead>\n",
       "    <tr style=\"text-align: right;\">\n",
       "      <th></th>\n",
       "      <th>column</th>\n",
       "      <th>row_total</th>\n",
       "      <th>row_null</th>\n",
       "      <th>row_complete</th>\n",
       "      <th>complete_perc</th>\n",
       "    </tr>\n",
       "  </thead>\n",
       "  <tbody>\n",
       "    <tr>\n",
       "      <th>0</th>\n",
       "      <td>_id</td>\n",
       "      <td>251</td>\n",
       "      <td>0</td>\n",
       "      <td>251</td>\n",
       "      <td>100.0</td>\n",
       "    </tr>\n",
       "    <tr>\n",
       "      <th>0</th>\n",
       "      <td>name</td>\n",
       "      <td>251</td>\n",
       "      <td>0</td>\n",
       "      <td>251</td>\n",
       "      <td>100.0</td>\n",
       "    </tr>\n",
       "    <tr>\n",
       "      <th>0</th>\n",
       "      <td>email</td>\n",
       "      <td>251</td>\n",
       "      <td>0</td>\n",
       "      <td>251</td>\n",
       "      <td>100.0</td>\n",
       "    </tr>\n",
       "    <tr>\n",
       "      <th>0</th>\n",
       "      <td>address</td>\n",
       "      <td>251</td>\n",
       "      <td>0</td>\n",
       "      <td>251</td>\n",
       "      <td>100.0</td>\n",
       "    </tr>\n",
       "    <tr>\n",
       "      <th>0</th>\n",
       "      <td>phone</td>\n",
       "      <td>251</td>\n",
       "      <td>0</td>\n",
       "      <td>251</td>\n",
       "      <td>100.0</td>\n",
       "    </tr>\n",
       "  </tbody>\n",
       "</table>\n",
       "</div>"
      ],
      "text/plain": [
       "    column  row_total  row_null  row_complete  complete_perc\n",
       "0      _id        251         0           251          100.0\n",
       "0     name        251         0           251          100.0\n",
       "0    email        251         0           251          100.0\n",
       "0  address        251         0           251          100.0\n",
       "0    phone        251         0           251          100.0"
      ]
     },
     "execution_count": 74,
     "metadata": {},
     "output_type": "execute_result"
    }
   ],
   "source": [
    "evaluator.completeness_table(df_user).head(5)"
   ]
  },
  {
   "cell_type": "code",
   "execution_count": 76,
   "id": "27fa4c3a-bfc4-42d3-a4be-89b3853b0b8b",
   "metadata": {
    "tags": []
   },
   "outputs": [
    {
     "data": {
      "text/html": [
       "<div>\n",
       "<style scoped>\n",
       "    .dataframe tbody tr th:only-of-type {\n",
       "        vertical-align: middle;\n",
       "    }\n",
       "\n",
       "    .dataframe tbody tr th {\n",
       "        vertical-align: top;\n",
       "    }\n",
       "\n",
       "    .dataframe thead th {\n",
       "        text-align: right;\n",
       "    }\n",
       "</style>\n",
       "<table border=\"1\" class=\"dataframe\">\n",
       "  <thead>\n",
       "    <tr style=\"text-align: right;\">\n",
       "      <th></th>\n",
       "      <th>id_db</th>\n",
       "      <th>database</th>\n",
       "      <th>id_schema</th>\n",
       "      <th>schema</th>\n",
       "      <th>id_table</th>\n",
       "      <th>table</th>\n",
       "      <th>column</th>\n",
       "      <th>row_total</th>\n",
       "      <th>row_null</th>\n",
       "      <th>row_complete</th>\n",
       "      <th>complete_perc</th>\n",
       "    </tr>\n",
       "  </thead>\n",
       "  <tbody>\n",
       "    <tr>\n",
       "      <th>0</th>\n",
       "      <td>1</td>\n",
       "      <td>db_data_catalog</td>\n",
       "      <td>2</td>\n",
       "      <td>public</td>\n",
       "      <td>1</td>\n",
       "      <td>datamart_count_attribute</td>\n",
       "      <td>count_db</td>\n",
       "      <td>0</td>\n",
       "      <td>0</td>\n",
       "      <td>0</td>\n",
       "      <td>0.0</td>\n",
       "    </tr>\n",
       "    <tr>\n",
       "      <th>1</th>\n",
       "      <td>1</td>\n",
       "      <td>db_data_catalog</td>\n",
       "      <td>2</td>\n",
       "      <td>public</td>\n",
       "      <td>1</td>\n",
       "      <td>datamart_count_attribute</td>\n",
       "      <td>count_tables</td>\n",
       "      <td>0</td>\n",
       "      <td>0</td>\n",
       "      <td>0</td>\n",
       "      <td>0.0</td>\n",
       "    </tr>\n",
       "    <tr>\n",
       "      <th>2</th>\n",
       "      <td>1</td>\n",
       "      <td>db_data_catalog</td>\n",
       "      <td>2</td>\n",
       "      <td>public</td>\n",
       "      <td>1</td>\n",
       "      <td>datamart_count_attribute</td>\n",
       "      <td>count_row</td>\n",
       "      <td>0</td>\n",
       "      <td>0</td>\n",
       "      <td>0</td>\n",
       "      <td>0.0</td>\n",
       "    </tr>\n",
       "    <tr>\n",
       "      <th>3</th>\n",
       "      <td>1</td>\n",
       "      <td>db_data_catalog</td>\n",
       "      <td>3</td>\n",
       "      <td>raw_metadata</td>\n",
       "      <td>2</td>\n",
       "      <td>hrsv_metadata_1</td>\n",
       "      <td>table_catalog</td>\n",
       "      <td>173</td>\n",
       "      <td>0</td>\n",
       "      <td>173</td>\n",
       "      <td>100.0</td>\n",
       "    </tr>\n",
       "    <tr>\n",
       "      <th>4</th>\n",
       "      <td>1</td>\n",
       "      <td>db_data_catalog</td>\n",
       "      <td>3</td>\n",
       "      <td>raw_metadata</td>\n",
       "      <td>2</td>\n",
       "      <td>hrsv_metadata_1</td>\n",
       "      <td>table_schema</td>\n",
       "      <td>173</td>\n",
       "      <td>0</td>\n",
       "      <td>173</td>\n",
       "      <td>100.0</td>\n",
       "    </tr>\n",
       "  </tbody>\n",
       "</table>\n",
       "</div>"
      ],
      "text/plain": [
       "   id_db         database  id_schema        schema  id_table  \\\n",
       "0      1  db_data_catalog          2        public         1   \n",
       "1      1  db_data_catalog          2        public         1   \n",
       "2      1  db_data_catalog          2        public         1   \n",
       "3      1  db_data_catalog          3  raw_metadata         2   \n",
       "4      1  db_data_catalog          3  raw_metadata         2   \n",
       "\n",
       "                      table         column  row_total  row_null  row_complete  \\\n",
       "0  datamart_count_attribute       count_db          0         0             0   \n",
       "1  datamart_count_attribute   count_tables          0         0             0   \n",
       "2  datamart_count_attribute      count_row          0         0             0   \n",
       "3           hrsv_metadata_1  table_catalog        173         0           173   \n",
       "4           hrsv_metadata_1   table_schema        173         0           173   \n",
       "\n",
       "   complete_perc  \n",
       "0            0.0  \n",
       "1            0.0  \n",
       "2            0.0  \n",
       "3          100.0  \n",
       "4          100.0  "
      ]
     },
     "execution_count": 76,
     "metadata": {},
     "output_type": "execute_result"
    }
   ],
   "source": [
    "evaluator.completeness_table_all().head(5)"
   ]
  },
  {
   "cell_type": "markdown",
   "id": "14f45751-356b-424f-b249-3d7e25993967",
   "metadata": {},
   "source": [
    "### Uniqueness Function"
   ]
  },
  {
   "cell_type": "code",
   "execution_count": 78,
   "id": "d118195d-a187-44c1-b82e-74cee885b403",
   "metadata": {
    "tags": []
   },
   "outputs": [
    {
     "data": {
      "text/html": [
       "<div>\n",
       "<style scoped>\n",
       "    .dataframe tbody tr th:only-of-type {\n",
       "        vertical-align: middle;\n",
       "    }\n",
       "\n",
       "    .dataframe tbody tr th {\n",
       "        vertical-align: top;\n",
       "    }\n",
       "\n",
       "    .dataframe thead th {\n",
       "        text-align: right;\n",
       "    }\n",
       "</style>\n",
       "<table border=\"1\" class=\"dataframe\">\n",
       "  <thead>\n",
       "    <tr style=\"text-align: right;\">\n",
       "      <th></th>\n",
       "      <th>row_total</th>\n",
       "      <th>value_unique</th>\n",
       "      <th>unique_perc</th>\n",
       "    </tr>\n",
       "  </thead>\n",
       "  <tbody>\n",
       "    <tr>\n",
       "      <th>0</th>\n",
       "      <td>251</td>\n",
       "      <td>251</td>\n",
       "      <td>100.0</td>\n",
       "    </tr>\n",
       "  </tbody>\n",
       "</table>\n",
       "</div>"
      ],
      "text/plain": [
       "   row_total  value_unique  unique_perc\n",
       "0        251           251        100.0"
      ]
     },
     "execution_count": 78,
     "metadata": {},
     "output_type": "execute_result"
    }
   ],
   "source": [
    "evaluator.uniqueness_column(df_logbook[\"name\"])"
   ]
  },
  {
   "cell_type": "code",
   "execution_count": 84,
   "id": "c45dc907-489e-4312-b8f6-41a6e3d61ea5",
   "metadata": {
    "tags": []
   },
   "outputs": [
    {
     "data": {
      "text/html": [
       "<div>\n",
       "<style scoped>\n",
       "    .dataframe tbody tr th:only-of-type {\n",
       "        vertical-align: middle;\n",
       "    }\n",
       "\n",
       "    .dataframe tbody tr th {\n",
       "        vertical-align: top;\n",
       "    }\n",
       "\n",
       "    .dataframe thead th {\n",
       "        text-align: right;\n",
       "    }\n",
       "</style>\n",
       "<table border=\"1\" class=\"dataframe\">\n",
       "  <thead>\n",
       "    <tr style=\"text-align: right;\">\n",
       "      <th></th>\n",
       "      <th>column</th>\n",
       "      <th>row_total</th>\n",
       "      <th>value_unique</th>\n",
       "      <th>unique_perc</th>\n",
       "    </tr>\n",
       "  </thead>\n",
       "  <tbody>\n",
       "    <tr>\n",
       "      <th>0</th>\n",
       "      <td>_id</td>\n",
       "      <td>251</td>\n",
       "      <td>251</td>\n",
       "      <td>100.0</td>\n",
       "    </tr>\n",
       "    <tr>\n",
       "      <th>0</th>\n",
       "      <td>name</td>\n",
       "      <td>251</td>\n",
       "      <td>251</td>\n",
       "      <td>100.0</td>\n",
       "    </tr>\n",
       "    <tr>\n",
       "      <th>0</th>\n",
       "      <td>email</td>\n",
       "      <td>251</td>\n",
       "      <td>251</td>\n",
       "      <td>100.0</td>\n",
       "    </tr>\n",
       "  </tbody>\n",
       "</table>\n",
       "</div>"
      ],
      "text/plain": [
       "  column  row_total  value_unique  unique_perc\n",
       "0    _id        251           251        100.0\n",
       "0   name        251           251        100.0\n",
       "0  email        251           251        100.0"
      ]
     },
     "execution_count": 84,
     "metadata": {},
     "output_type": "execute_result"
    }
   ],
   "source": [
    "evaluator.uniqueness_table(df_logbook).head(3)"
   ]
  },
  {
   "cell_type": "code",
   "execution_count": 86,
   "id": "b15a0efb-67b6-4f7b-88d0-773d7d09448d",
   "metadata": {
    "tags": []
   },
   "outputs": [
    {
     "data": {
      "text/html": [
       "<div>\n",
       "<style scoped>\n",
       "    .dataframe tbody tr th:only-of-type {\n",
       "        vertical-align: middle;\n",
       "    }\n",
       "\n",
       "    .dataframe tbody tr th {\n",
       "        vertical-align: top;\n",
       "    }\n",
       "\n",
       "    .dataframe thead th {\n",
       "        text-align: right;\n",
       "    }\n",
       "</style>\n",
       "<table border=\"1\" class=\"dataframe\">\n",
       "  <thead>\n",
       "    <tr style=\"text-align: right;\">\n",
       "      <th></th>\n",
       "      <th>id_db</th>\n",
       "      <th>database</th>\n",
       "      <th>id_schema</th>\n",
       "      <th>schema</th>\n",
       "      <th>id_table</th>\n",
       "      <th>table</th>\n",
       "      <th>column</th>\n",
       "      <th>row_total</th>\n",
       "      <th>value_unique</th>\n",
       "      <th>unique_perc</th>\n",
       "    </tr>\n",
       "  </thead>\n",
       "  <tbody>\n",
       "    <tr>\n",
       "      <th>0</th>\n",
       "      <td>1</td>\n",
       "      <td>db_data_catalog</td>\n",
       "      <td>2</td>\n",
       "      <td>public</td>\n",
       "      <td>1</td>\n",
       "      <td>datamart_count_attribute</td>\n",
       "      <td>count_db</td>\n",
       "      <td>0</td>\n",
       "      <td>0</td>\n",
       "      <td>0.0</td>\n",
       "    </tr>\n",
       "    <tr>\n",
       "      <th>1</th>\n",
       "      <td>1</td>\n",
       "      <td>db_data_catalog</td>\n",
       "      <td>2</td>\n",
       "      <td>public</td>\n",
       "      <td>1</td>\n",
       "      <td>datamart_count_attribute</td>\n",
       "      <td>count_tables</td>\n",
       "      <td>0</td>\n",
       "      <td>0</td>\n",
       "      <td>0.0</td>\n",
       "    </tr>\n",
       "    <tr>\n",
       "      <th>2</th>\n",
       "      <td>1</td>\n",
       "      <td>db_data_catalog</td>\n",
       "      <td>2</td>\n",
       "      <td>public</td>\n",
       "      <td>1</td>\n",
       "      <td>datamart_count_attribute</td>\n",
       "      <td>count_row</td>\n",
       "      <td>0</td>\n",
       "      <td>0</td>\n",
       "      <td>0.0</td>\n",
       "    </tr>\n",
       "  </tbody>\n",
       "</table>\n",
       "</div>"
      ],
      "text/plain": [
       "   id_db         database  id_schema  schema  id_table  \\\n",
       "0      1  db_data_catalog          2  public         1   \n",
       "1      1  db_data_catalog          2  public         1   \n",
       "2      1  db_data_catalog          2  public         1   \n",
       "\n",
       "                      table        column  row_total  value_unique  \\\n",
       "0  datamart_count_attribute      count_db          0             0   \n",
       "1  datamart_count_attribute  count_tables          0             0   \n",
       "2  datamart_count_attribute     count_row          0             0   \n",
       "\n",
       "   unique_perc  \n",
       "0          0.0  \n",
       "1          0.0  \n",
       "2          0.0  "
      ]
     },
     "execution_count": 86,
     "metadata": {},
     "output_type": "execute_result"
    }
   ],
   "source": [
    "evaluator.uniqueness_table_all().head(3)"
   ]
  },
  {
   "cell_type": "markdown",
   "id": "9a413079-daaf-4ea2-bd5d-a07d72ddcb56",
   "metadata": {},
   "source": [
    "### Validity Function"
   ]
  },
  {
   "cell_type": "code",
   "execution_count": 28,
   "id": "8a345b45-68cb-4ad0-9a4b-6cc514483498",
   "metadata": {
    "tags": []
   },
   "outputs": [
    {
     "data": {
      "text/html": [
       "<div>\n",
       "<style scoped>\n",
       "    .dataframe tbody tr th:only-of-type {\n",
       "        vertical-align: middle;\n",
       "    }\n",
       "\n",
       "    .dataframe tbody tr th {\n",
       "        vertical-align: top;\n",
       "    }\n",
       "\n",
       "    .dataframe thead th {\n",
       "        text-align: right;\n",
       "    }\n",
       "</style>\n",
       "<table border=\"1\" class=\"dataframe\">\n",
       "  <thead>\n",
       "    <tr style=\"text-align: right;\">\n",
       "      <th></th>\n",
       "      <th>value</th>\n",
       "      <th>is_valid</th>\n",
       "    </tr>\n",
       "  </thead>\n",
       "  <tbody>\n",
       "    <tr>\n",
       "      <th>0</th>\n",
       "      <td>ryan.kurniawan@it.sharingvision.com</td>\n",
       "      <td>True</td>\n",
       "    </tr>\n",
       "    <tr>\n",
       "      <th>1</th>\n",
       "      <td>herlindarosa77@gmail.com</td>\n",
       "      <td>True</td>\n",
       "    </tr>\n",
       "    <tr>\n",
       "      <th>2</th>\n",
       "      <td>stevefanus@lapi.my.id</td>\n",
       "      <td>True</td>\n",
       "    </tr>\n",
       "  </tbody>\n",
       "</table>\n",
       "</div>"
      ],
      "text/plain": [
       "                                 value  is_valid\n",
       "0  ryan.kurniawan@it.sharingvision.com      True\n",
       "1             herlindarosa77@gmail.com      True\n",
       "2                stevefanus@lapi.my.id      True"
      ]
     },
     "execution_count": 28,
     "metadata": {},
     "output_type": "execute_result"
    }
   ],
   "source": [
    "evaluator.validity_column(df_user[\"email\"], \"email\").head(3)"
   ]
  },
  {
   "cell_type": "markdown",
   "id": "c8e3ec66-a279-4f56-85e3-32017e18d406",
   "metadata": {},
   "source": [
    "### Redundancy Function"
   ]
  },
  {
   "cell_type": "code",
   "execution_count": 30,
   "id": "d70abd70-8b3b-49fc-a809-db86b098d63b",
   "metadata": {
    "tags": []
   },
   "outputs": [
    {
     "data": {
      "text/html": [
       "<div>\n",
       "<style scoped>\n",
       "    .dataframe tbody tr th:only-of-type {\n",
       "        vertical-align: middle;\n",
       "    }\n",
       "\n",
       "    .dataframe tbody tr th {\n",
       "        vertical-align: top;\n",
       "    }\n",
       "\n",
       "    .dataframe thead th {\n",
       "        text-align: right;\n",
       "    }\n",
       "</style>\n",
       "<table border=\"1\" class=\"dataframe\">\n",
       "  <thead>\n",
       "    <tr style=\"text-align: right;\">\n",
       "      <th></th>\n",
       "      <th>row_total</th>\n",
       "      <th>row_duplicates</th>\n",
       "      <th>redundancy_perc</th>\n",
       "    </tr>\n",
       "  </thead>\n",
       "  <tbody>\n",
       "    <tr>\n",
       "      <th>0</th>\n",
       "      <td>79</td>\n",
       "      <td>0</td>\n",
       "      <td>0.0</td>\n",
       "    </tr>\n",
       "  </tbody>\n",
       "</table>\n",
       "</div>"
      ],
      "text/plain": [
       "   row_total  row_duplicates  redundancy_perc\n",
       "0         79               0              0.0"
      ]
     },
     "execution_count": 30,
     "metadata": {},
     "output_type": "execute_result"
    }
   ],
   "source": [
    "evaluator.redundancy_table(df_user)"
   ]
  },
  {
   "cell_type": "markdown",
   "id": "228eb47d-85e4-4b7f-a7eb-33244aaa6c9c",
   "metadata": {},
   "source": [
    "### Timeliness Function"
   ]
  },
  {
   "cell_type": "code",
   "execution_count": 34,
   "id": "39e765cf-d8a2-4569-8596-1a3e6cd57bb9",
   "metadata": {
    "tags": []
   },
   "outputs": [
    {
     "data": {
      "text/html": [
       "<div>\n",
       "<style scoped>\n",
       "    .dataframe tbody tr th:only-of-type {\n",
       "        vertical-align: middle;\n",
       "    }\n",
       "\n",
       "    .dataframe tbody tr th {\n",
       "        vertical-align: top;\n",
       "    }\n",
       "\n",
       "    .dataframe thead th {\n",
       "        text-align: right;\n",
       "    }\n",
       "</style>\n",
       "<table border=\"1\" class=\"dataframe\">\n",
       "  <thead>\n",
       "    <tr style=\"text-align: right;\">\n",
       "      <th></th>\n",
       "      <th>update_time_column</th>\n",
       "      <th>average_update_time</th>\n",
       "    </tr>\n",
       "  </thead>\n",
       "  <tbody>\n",
       "    <tr>\n",
       "      <th>0</th>\n",
       "      <td>updated_at</td>\n",
       "      <td>5.96</td>\n",
       "    </tr>\n",
       "  </tbody>\n",
       "</table>\n",
       "</div>"
      ],
      "text/plain": [
       "  update_time_column  average_update_time\n",
       "0         updated_at                 5.96"
      ]
     },
     "execution_count": 34,
     "metadata": {},
     "output_type": "execute_result"
    }
   ],
   "source": [
    "evaluator.timeliness_table(df_logbook, \"updated_at\")"
   ]
  },
  {
   "cell_type": "markdown",
   "id": "638138b5-0d6e-40fd-984c-662cc46b5251",
   "metadata": {},
   "source": [
    "### Integrity Function"
   ]
  },
  {
   "cell_type": "code",
   "execution_count": 40,
   "id": "bad6ce5c-9fcd-4425-a3e1-940140f8e108",
   "metadata": {
    "tags": []
   },
   "outputs": [
    {
     "data": {
      "text/html": [
       "<div>\n",
       "<style scoped>\n",
       "    .dataframe tbody tr th:only-of-type {\n",
       "        vertical-align: middle;\n",
       "    }\n",
       "\n",
       "    .dataframe tbody tr th {\n",
       "        vertical-align: top;\n",
       "    }\n",
       "\n",
       "    .dataframe thead th {\n",
       "        text-align: right;\n",
       "    }\n",
       "</style>\n",
       "<table border=\"1\" class=\"dataframe\">\n",
       "  <thead>\n",
       "    <tr style=\"text-align: right;\">\n",
       "      <th></th>\n",
       "      <th>row_total</th>\n",
       "      <th>column_name</th>\n",
       "      <th>column_reference_name</th>\n",
       "      <th>value_integrous</th>\n",
       "      <th>integrity_perc</th>\n",
       "    </tr>\n",
       "  </thead>\n",
       "  <tbody>\n",
       "    <tr>\n",
       "      <th>0</th>\n",
       "      <td>251</td>\n",
       "      <td>_id</td>\n",
       "      <td>_id</td>\n",
       "      <td>251</td>\n",
       "      <td>100.0</td>\n",
       "    </tr>\n",
       "  </tbody>\n",
       "</table>\n",
       "</div>"
      ],
      "text/plain": [
       "   row_total column_name column_reference_name  value_integrous  \\\n",
       "0        251         _id                   _id              251   \n",
       "\n",
       "   integrity_perc  \n",
       "0           100.0  "
      ]
     },
     "execution_count": 40,
     "metadata": {},
     "output_type": "execute_result"
    }
   ],
   "source": [
    "evaluator.integrity_column(df_logbook, \"_id\", df_user, \"_id\")"
   ]
  },
  {
   "cell_type": "markdown",
   "id": "68808be7-f6e6-40f8-a466-b49aa38b186a",
   "metadata": {},
   "source": [
    "### Consistency Function"
   ]
  },
  {
   "cell_type": "code",
   "execution_count": 46,
   "id": "d9312d93-1123-44f6-94e7-e002af0e15da",
   "metadata": {
    "tags": []
   },
   "outputs": [
    {
     "data": {
      "text/html": [
       "<div>\n",
       "<style scoped>\n",
       "    .dataframe tbody tr th:only-of-type {\n",
       "        vertical-align: middle;\n",
       "    }\n",
       "\n",
       "    .dataframe tbody tr th {\n",
       "        vertical-align: top;\n",
       "    }\n",
       "\n",
       "    .dataframe thead th {\n",
       "        text-align: right;\n",
       "    }\n",
       "</style>\n",
       "<table border=\"1\" class=\"dataframe\">\n",
       "  <thead>\n",
       "    <tr style=\"text-align: right;\">\n",
       "      <th></th>\n",
       "      <th>row_total</th>\n",
       "      <th>column_name</th>\n",
       "      <th>column_reference_name</th>\n",
       "      <th>value_consistency</th>\n",
       "      <th>consistency_perc</th>\n",
       "    </tr>\n",
       "  </thead>\n",
       "  <tbody>\n",
       "    <tr>\n",
       "      <th>0</th>\n",
       "      <td>251</td>\n",
       "      <td>name</td>\n",
       "      <td>name</td>\n",
       "      <td>251</td>\n",
       "      <td>100.0</td>\n",
       "    </tr>\n",
       "  </tbody>\n",
       "</table>\n",
       "</div>"
      ],
      "text/plain": [
       "   row_total column_name column_reference_name  value_consistency  \\\n",
       "0        251        name                  name                251   \n",
       "\n",
       "   consistency_perc  \n",
       "0             100.0  "
      ]
     },
     "execution_count": 46,
     "metadata": {},
     "output_type": "execute_result"
    }
   ],
   "source": [
    "evaluator.consistency_column(df_logbook, \"name\", \"_id\", df_user, \"name\", \"_id\")"
   ]
  },
  {
   "cell_type": "markdown",
   "id": "f1fc6a49-b842-4959-acd7-632c186b500d",
   "metadata": {},
   "source": [
    "### Mask Function -- belum akurat"
   ]
  },
  {
   "cell_type": "code",
   "execution_count": 73,
   "id": "ee645ad5-c1c2-44ff-b6e7-db6ba06815ae",
   "metadata": {
    "tags": []
   },
   "outputs": [
    {
     "data": {
      "text/html": [
       "<div>\n",
       "<style scoped>\n",
       "    .dataframe tbody tr th:only-of-type {\n",
       "        vertical-align: middle;\n",
       "    }\n",
       "\n",
       "    .dataframe tbody tr th {\n",
       "        vertical-align: top;\n",
       "    }\n",
       "\n",
       "    .dataframe thead th {\n",
       "        text-align: right;\n",
       "    }\n",
       "</style>\n",
       "<table border=\"1\" class=\"dataframe\">\n",
       "  <thead>\n",
       "    <tr style=\"text-align: right;\">\n",
       "      <th></th>\n",
       "      <th>row_total</th>\n",
       "      <th>column</th>\n",
       "      <th>value_masked</th>\n",
       "      <th>masked_perc</th>\n",
       "    </tr>\n",
       "  </thead>\n",
       "  <tbody>\n",
       "    <tr>\n",
       "      <th>0</th>\n",
       "      <td>251</td>\n",
       "      <td>name</td>\n",
       "      <td>1</td>\n",
       "      <td>0.4</td>\n",
       "    </tr>\n",
       "  </tbody>\n",
       "</table>\n",
       "</div>"
      ],
      "text/plain": [
       "   row_total column  value_masked  masked_perc\n",
       "0        251   name             1          0.4"
      ]
     },
     "execution_count": 73,
     "metadata": {},
     "output_type": "execute_result"
    }
   ],
   "source": [
    "evaluator.masking_column(df_logbook, \"name\")"
   ]
  },
  {
   "cell_type": "code",
   "execution_count": 78,
   "id": "6d402f90-1810-49e6-b6d6-191b227c7c4e",
   "metadata": {
    "tags": []
   },
   "outputs": [
    {
     "data": {
      "text/html": [
       "<div>\n",
       "<style scoped>\n",
       "    .dataframe tbody tr th:only-of-type {\n",
       "        vertical-align: middle;\n",
       "    }\n",
       "\n",
       "    .dataframe tbody tr th {\n",
       "        vertical-align: top;\n",
       "    }\n",
       "\n",
       "    .dataframe thead th {\n",
       "        text-align: right;\n",
       "    }\n",
       "</style>\n",
       "<table border=\"1\" class=\"dataframe\">\n",
       "  <thead>\n",
       "    <tr style=\"text-align: right;\">\n",
       "      <th></th>\n",
       "      <th>row_total</th>\n",
       "      <th>column</th>\n",
       "      <th>value_masked</th>\n",
       "      <th>masked_perc</th>\n",
       "    </tr>\n",
       "  </thead>\n",
       "  <tbody>\n",
       "    <tr>\n",
       "      <th>0</th>\n",
       "      <td>9</td>\n",
       "      <td>id</td>\n",
       "      <td>9</td>\n",
       "      <td>100.0</td>\n",
       "    </tr>\n",
       "  </tbody>\n",
       "</table>\n",
       "</div>"
      ],
      "text/plain": [
       "   row_total column  value_masked  masked_perc\n",
       "0          9     id             9        100.0"
      ]
     },
     "execution_count": 78,
     "metadata": {},
     "output_type": "execute_result"
    }
   ],
   "source": [
    "df = pd.DataFrame({\"id\":[\"1XXXXX123\",\"2XXXXX133\",\"3XXXXX125\",\"4XXXXX323\",\"5XXXXX126\",\"6XXXXX122\",\"8XXXXX163\",\"1XXXXX923\",\"2XXXXX124\"]})\n",
    "evaluator.masking_column(df, \"id\")"
   ]
  },
  {
   "cell_type": "markdown",
   "id": "f314688f-d6a4-40b9-ac47-678afa89e0dd",
   "metadata": {},
   "source": [
    "### Primary Key Function"
   ]
  },
  {
   "cell_type": "code",
   "execution_count": 87,
   "id": "b0f87709-f848-4253-804f-0ce5889b49f1",
   "metadata": {
    "tags": []
   },
   "outputs": [
    {
     "data": {
      "text/html": [
       "<div>\n",
       "<style scoped>\n",
       "    .dataframe tbody tr th:only-of-type {\n",
       "        vertical-align: middle;\n",
       "    }\n",
       "\n",
       "    .dataframe tbody tr th {\n",
       "        vertical-align: top;\n",
       "    }\n",
       "\n",
       "    .dataframe thead th {\n",
       "        text-align: right;\n",
       "    }\n",
       "</style>\n",
       "<table border=\"1\" class=\"dataframe\">\n",
       "  <thead>\n",
       "    <tr style=\"text-align: right;\">\n",
       "      <th></th>\n",
       "      <th>id_db</th>\n",
       "      <th>database</th>\n",
       "      <th>id_schema</th>\n",
       "      <th>schema</th>\n",
       "      <th>id_table</th>\n",
       "      <th>table</th>\n",
       "      <th>is_primary_key</th>\n",
       "      <th>primary_key</th>\n",
       "    </tr>\n",
       "  </thead>\n",
       "  <tbody>\n",
       "    <tr>\n",
       "      <th>0</th>\n",
       "      <td>1</td>\n",
       "      <td>db_data_catalog</td>\n",
       "      <td>2</td>\n",
       "      <td>public</td>\n",
       "      <td>1</td>\n",
       "      <td>datamart_count_attribute</td>\n",
       "      <td>0</td>\n",
       "      <td></td>\n",
       "    </tr>\n",
       "    <tr>\n",
       "      <th>1</th>\n",
       "      <td>1</td>\n",
       "      <td>db_data_catalog</td>\n",
       "      <td>3</td>\n",
       "      <td>raw_metadata</td>\n",
       "      <td>2</td>\n",
       "      <td>hrsv_metadata_1</td>\n",
       "      <td>0</td>\n",
       "      <td></td>\n",
       "    </tr>\n",
       "    <tr>\n",
       "      <th>2</th>\n",
       "      <td>1</td>\n",
       "      <td>db_data_catalog</td>\n",
       "      <td>3</td>\n",
       "      <td>raw_metadata</td>\n",
       "      <td>3</td>\n",
       "      <td>hrsv_metadata_2</td>\n",
       "      <td>0</td>\n",
       "      <td></td>\n",
       "    </tr>\n",
       "  </tbody>\n",
       "</table>\n",
       "</div>"
      ],
      "text/plain": [
       "   id_db         database  id_schema        schema  id_table  \\\n",
       "0      1  db_data_catalog          2        public         1   \n",
       "1      1  db_data_catalog          3  raw_metadata         2   \n",
       "2      1  db_data_catalog          3  raw_metadata         3   \n",
       "\n",
       "                      table  is_primary_key primary_key  \n",
       "0  datamart_count_attribute               0              \n",
       "1           hrsv_metadata_1               0              \n",
       "2           hrsv_metadata_2               0              "
      ]
     },
     "execution_count": 87,
     "metadata": {},
     "output_type": "execute_result"
    }
   ],
   "source": [
    "evaluator.primary_key_table().head(3)"
   ]
  },
  {
   "cell_type": "code",
   "execution_count": 89,
   "id": "b7f40851-9657-4153-a91f-b3b5efdf2f0c",
   "metadata": {
    "tags": []
   },
   "outputs": [
    {
     "data": {
      "text/html": [
       "<div>\n",
       "<style scoped>\n",
       "    .dataframe tbody tr th:only-of-type {\n",
       "        vertical-align: middle;\n",
       "    }\n",
       "\n",
       "    .dataframe tbody tr th {\n",
       "        vertical-align: top;\n",
       "    }\n",
       "\n",
       "    .dataframe thead th {\n",
       "        text-align: right;\n",
       "    }\n",
       "</style>\n",
       "<table border=\"1\" class=\"dataframe\">\n",
       "  <thead>\n",
       "    <tr style=\"text-align: right;\">\n",
       "      <th></th>\n",
       "      <th>id_db</th>\n",
       "      <th>database</th>\n",
       "      <th>id_schema</th>\n",
       "      <th>schema</th>\n",
       "      <th>primary_key_perc</th>\n",
       "    </tr>\n",
       "  </thead>\n",
       "  <tbody>\n",
       "    <tr>\n",
       "      <th>0</th>\n",
       "      <td>1</td>\n",
       "      <td>db_data_catalog</td>\n",
       "      <td>2</td>\n",
       "      <td>public</td>\n",
       "      <td>0.0</td>\n",
       "    </tr>\n",
       "    <tr>\n",
       "      <th>1</th>\n",
       "      <td>1</td>\n",
       "      <td>db_data_catalog</td>\n",
       "      <td>3</td>\n",
       "      <td>raw_metadata</td>\n",
       "      <td>0.0</td>\n",
       "    </tr>\n",
       "    <tr>\n",
       "      <th>2</th>\n",
       "      <td>1</td>\n",
       "      <td>db_data_catalog</td>\n",
       "      <td>4</td>\n",
       "      <td>datamart_layer_1</td>\n",
       "      <td>75.0</td>\n",
       "    </tr>\n",
       "  </tbody>\n",
       "</table>\n",
       "</div>"
      ],
      "text/plain": [
       "   id_db         database  id_schema            schema  primary_key_perc\n",
       "0      1  db_data_catalog          2            public               0.0\n",
       "1      1  db_data_catalog          3      raw_metadata               0.0\n",
       "2      1  db_data_catalog          4  datamart_layer_1              75.0"
      ]
     },
     "execution_count": 89,
     "metadata": {},
     "output_type": "execute_result"
    }
   ],
   "source": [
    "evaluator.primary_key_schema().head(3)"
   ]
  },
  {
   "cell_type": "markdown",
   "id": "4eb9247c-e65e-430f-b9e3-a3bb3a421492",
   "metadata": {},
   "source": [
    "### Foreign Key Function"
   ]
  },
  {
   "cell_type": "code",
   "execution_count": 98,
   "id": "9555ced6-ecde-48cd-80bf-efb6af548398",
   "metadata": {
    "tags": []
   },
   "outputs": [
    {
     "data": {
      "text/html": [
       "<div>\n",
       "<style scoped>\n",
       "    .dataframe tbody tr th:only-of-type {\n",
       "        vertical-align: middle;\n",
       "    }\n",
       "\n",
       "    .dataframe tbody tr th {\n",
       "        vertical-align: top;\n",
       "    }\n",
       "\n",
       "    .dataframe thead th {\n",
       "        text-align: right;\n",
       "    }\n",
       "</style>\n",
       "<table border=\"1\" class=\"dataframe\">\n",
       "  <thead>\n",
       "    <tr style=\"text-align: right;\">\n",
       "      <th></th>\n",
       "      <th>id_db</th>\n",
       "      <th>database</th>\n",
       "      <th>id_schema</th>\n",
       "      <th>schema</th>\n",
       "      <th>id_table</th>\n",
       "      <th>table</th>\n",
       "      <th>foreign_key</th>\n",
       "      <th>is_foreign_key_valid</th>\n",
       "      <th>foreign_key_perc</th>\n",
       "    </tr>\n",
       "  </thead>\n",
       "  <tbody>\n",
       "    <tr>\n",
       "      <th>0</th>\n",
       "      <td>1</td>\n",
       "      <td>db_data_catalog</td>\n",
       "      <td>2</td>\n",
       "      <td>public</td>\n",
       "      <td>1</td>\n",
       "      <td>datamart_count_attribute</td>\n",
       "      <td>{}</td>\n",
       "      <td>{}</td>\n",
       "      <td>0.0</td>\n",
       "    </tr>\n",
       "    <tr>\n",
       "      <th>1</th>\n",
       "      <td>1</td>\n",
       "      <td>db_data_catalog</td>\n",
       "      <td>3</td>\n",
       "      <td>raw_metadata</td>\n",
       "      <td>2</td>\n",
       "      <td>hrsv_metadata_1</td>\n",
       "      <td>{}</td>\n",
       "      <td>{}</td>\n",
       "      <td>0.0</td>\n",
       "    </tr>\n",
       "    <tr>\n",
       "      <th>2</th>\n",
       "      <td>1</td>\n",
       "      <td>db_data_catalog</td>\n",
       "      <td>3</td>\n",
       "      <td>raw_metadata</td>\n",
       "      <td>3</td>\n",
       "      <td>hrsv_metadata_2</td>\n",
       "      <td>{}</td>\n",
       "      <td>{}</td>\n",
       "      <td>0.0</td>\n",
       "    </tr>\n",
       "  </tbody>\n",
       "</table>\n",
       "</div>"
      ],
      "text/plain": [
       "   id_db         database  id_schema        schema  id_table  \\\n",
       "0      1  db_data_catalog          2        public         1   \n",
       "1      1  db_data_catalog          3  raw_metadata         2   \n",
       "2      1  db_data_catalog          3  raw_metadata         3   \n",
       "\n",
       "                      table foreign_key is_foreign_key_valid  foreign_key_perc  \n",
       "0  datamart_count_attribute          {}                   {}               0.0  \n",
       "1           hrsv_metadata_1          {}                   {}               0.0  \n",
       "2           hrsv_metadata_2          {}                   {}               0.0  "
      ]
     },
     "execution_count": 98,
     "metadata": {},
     "output_type": "execute_result"
    }
   ],
   "source": [
    "evaluator.foreign_key_table().head(3)"
   ]
  },
  {
   "cell_type": "code",
   "execution_count": 100,
   "id": "ff4c9ce1-2503-4639-956b-9b0847fb06b9",
   "metadata": {
    "tags": []
   },
   "outputs": [
    {
     "data": {
      "text/html": [
       "<div>\n",
       "<style scoped>\n",
       "    .dataframe tbody tr th:only-of-type {\n",
       "        vertical-align: middle;\n",
       "    }\n",
       "\n",
       "    .dataframe tbody tr th {\n",
       "        vertical-align: top;\n",
       "    }\n",
       "\n",
       "    .dataframe thead th {\n",
       "        text-align: right;\n",
       "    }\n",
       "</style>\n",
       "<table border=\"1\" class=\"dataframe\">\n",
       "  <thead>\n",
       "    <tr style=\"text-align: right;\">\n",
       "      <th></th>\n",
       "      <th>id_db</th>\n",
       "      <th>database</th>\n",
       "      <th>id_schema</th>\n",
       "      <th>schema</th>\n",
       "      <th>foreign_key_perc</th>\n",
       "    </tr>\n",
       "  </thead>\n",
       "  <tbody>\n",
       "    <tr>\n",
       "      <th>0</th>\n",
       "      <td>1</td>\n",
       "      <td>db_data_catalog</td>\n",
       "      <td>2</td>\n",
       "      <td>public</td>\n",
       "      <td>0.0</td>\n",
       "    </tr>\n",
       "    <tr>\n",
       "      <th>1</th>\n",
       "      <td>1</td>\n",
       "      <td>db_data_catalog</td>\n",
       "      <td>3</td>\n",
       "      <td>raw_metadata</td>\n",
       "      <td>0.0</td>\n",
       "    </tr>\n",
       "    <tr>\n",
       "      <th>2</th>\n",
       "      <td>1</td>\n",
       "      <td>db_data_catalog</td>\n",
       "      <td>4</td>\n",
       "      <td>datamart_layer_1</td>\n",
       "      <td>50.0</td>\n",
       "    </tr>\n",
       "  </tbody>\n",
       "</table>\n",
       "</div>"
      ],
      "text/plain": [
       "   id_db         database  id_schema            schema  foreign_key_perc\n",
       "0      1  db_data_catalog          2            public               0.0\n",
       "1      1  db_data_catalog          3      raw_metadata               0.0\n",
       "2      1  db_data_catalog          4  datamart_layer_1              50.0"
      ]
     },
     "execution_count": 100,
     "metadata": {},
     "output_type": "execute_result"
    }
   ],
   "source": [
    "evaluator.foreign_key_schema().head(3)"
   ]
  },
  {
   "cell_type": "markdown",
   "id": "b416d29f-d81f-4d5e-bc73-73c46eb1e114",
   "metadata": {},
   "source": [
    "### Indexing Function"
   ]
  },
  {
   "cell_type": "code",
   "execution_count": 115,
   "id": "3572a7b8-d0d8-4a02-8e31-19e6319028c4",
   "metadata": {
    "tags": []
   },
   "outputs": [
    {
     "data": {
      "text/html": [
       "<div>\n",
       "<style scoped>\n",
       "    .dataframe tbody tr th:only-of-type {\n",
       "        vertical-align: middle;\n",
       "    }\n",
       "\n",
       "    .dataframe tbody tr th {\n",
       "        vertical-align: top;\n",
       "    }\n",
       "\n",
       "    .dataframe thead th {\n",
       "        text-align: right;\n",
       "    }\n",
       "</style>\n",
       "<table border=\"1\" class=\"dataframe\">\n",
       "  <thead>\n",
       "    <tr style=\"text-align: right;\">\n",
       "      <th></th>\n",
       "      <th>id_db</th>\n",
       "      <th>database</th>\n",
       "      <th>id_schema</th>\n",
       "      <th>schema</th>\n",
       "      <th>id_table</th>\n",
       "      <th>table</th>\n",
       "      <th>is_indexed</th>\n",
       "      <th>index</th>\n",
       "    </tr>\n",
       "  </thead>\n",
       "  <tbody>\n",
       "    <tr>\n",
       "      <th>0</th>\n",
       "      <td>1</td>\n",
       "      <td>db_data_catalog</td>\n",
       "      <td>2</td>\n",
       "      <td>public</td>\n",
       "      <td>1</td>\n",
       "      <td>datamart_count_attribute</td>\n",
       "      <td>0</td>\n",
       "      <td>None</td>\n",
       "    </tr>\n",
       "    <tr>\n",
       "      <th>1</th>\n",
       "      <td>1</td>\n",
       "      <td>db_data_catalog</td>\n",
       "      <td>3</td>\n",
       "      <td>raw_metadata</td>\n",
       "      <td>2</td>\n",
       "      <td>hrsv_metadata_1</td>\n",
       "      <td>0</td>\n",
       "      <td>None</td>\n",
       "    </tr>\n",
       "    <tr>\n",
       "      <th>2</th>\n",
       "      <td>1</td>\n",
       "      <td>db_data_catalog</td>\n",
       "      <td>3</td>\n",
       "      <td>raw_metadata</td>\n",
       "      <td>3</td>\n",
       "      <td>hrsv_metadata_2</td>\n",
       "      <td>0</td>\n",
       "      <td>None</td>\n",
       "    </tr>\n",
       "  </tbody>\n",
       "</table>\n",
       "</div>"
      ],
      "text/plain": [
       "   id_db         database  id_schema        schema  id_table  \\\n",
       "0      1  db_data_catalog          2        public         1   \n",
       "1      1  db_data_catalog          3  raw_metadata         2   \n",
       "2      1  db_data_catalog          3  raw_metadata         3   \n",
       "\n",
       "                      table  is_indexed index  \n",
       "0  datamart_count_attribute           0  None  \n",
       "1           hrsv_metadata_1           0  None  \n",
       "2           hrsv_metadata_2           0  None  "
      ]
     },
     "execution_count": 115,
     "metadata": {},
     "output_type": "execute_result"
    }
   ],
   "source": [
    "evaluator.index_table().head(3)"
   ]
  },
  {
   "cell_type": "code",
   "execution_count": 117,
   "id": "08b9e124-8564-4b86-b7dc-21a16c95be1c",
   "metadata": {
    "tags": []
   },
   "outputs": [
    {
     "data": {
      "text/html": [
       "<div>\n",
       "<style scoped>\n",
       "    .dataframe tbody tr th:only-of-type {\n",
       "        vertical-align: middle;\n",
       "    }\n",
       "\n",
       "    .dataframe tbody tr th {\n",
       "        vertical-align: top;\n",
       "    }\n",
       "\n",
       "    .dataframe thead th {\n",
       "        text-align: right;\n",
       "    }\n",
       "</style>\n",
       "<table border=\"1\" class=\"dataframe\">\n",
       "  <thead>\n",
       "    <tr style=\"text-align: right;\">\n",
       "      <th></th>\n",
       "      <th>id_db</th>\n",
       "      <th>database</th>\n",
       "      <th>id_schema</th>\n",
       "      <th>schema</th>\n",
       "      <th>index_perc</th>\n",
       "    </tr>\n",
       "  </thead>\n",
       "  <tbody>\n",
       "    <tr>\n",
       "      <th>0</th>\n",
       "      <td>1</td>\n",
       "      <td>db_data_catalog</td>\n",
       "      <td>2</td>\n",
       "      <td>public</td>\n",
       "      <td>0.0</td>\n",
       "    </tr>\n",
       "    <tr>\n",
       "      <th>1</th>\n",
       "      <td>1</td>\n",
       "      <td>db_data_catalog</td>\n",
       "      <td>3</td>\n",
       "      <td>raw_metadata</td>\n",
       "      <td>33.0</td>\n",
       "    </tr>\n",
       "    <tr>\n",
       "      <th>2</th>\n",
       "      <td>1</td>\n",
       "      <td>db_data_catalog</td>\n",
       "      <td>4</td>\n",
       "      <td>datamart_layer_1</td>\n",
       "      <td>100.0</td>\n",
       "    </tr>\n",
       "  </tbody>\n",
       "</table>\n",
       "</div>"
      ],
      "text/plain": [
       "   id_db         database  id_schema            schema  index_perc\n",
       "0      1  db_data_catalog          2            public         0.0\n",
       "1      1  db_data_catalog          3      raw_metadata        33.0\n",
       "2      1  db_data_catalog          4  datamart_layer_1       100.0"
      ]
     },
     "execution_count": 117,
     "metadata": {},
     "output_type": "execute_result"
    }
   ],
   "source": [
    "evaluator.index_schema().head(3)"
   ]
  },
  {
   "cell_type": "markdown",
   "id": "ca1287b3-db00-4250-a31a-221131f91ea5",
   "metadata": {},
   "source": [
    "### Comment Function"
   ]
  },
  {
   "cell_type": "code",
   "execution_count": 121,
   "id": "4660a6e2-fdec-4fd8-a3b7-14fafccfaf67",
   "metadata": {
    "tags": []
   },
   "outputs": [
    {
     "data": {
      "text/html": [
       "<div>\n",
       "<style scoped>\n",
       "    .dataframe tbody tr th:only-of-type {\n",
       "        vertical-align: middle;\n",
       "    }\n",
       "\n",
       "    .dataframe tbody tr th {\n",
       "        vertical-align: top;\n",
       "    }\n",
       "\n",
       "    .dataframe thead th {\n",
       "        text-align: right;\n",
       "    }\n",
       "</style>\n",
       "<table border=\"1\" class=\"dataframe\">\n",
       "  <thead>\n",
       "    <tr style=\"text-align: right;\">\n",
       "      <th></th>\n",
       "      <th>id_db</th>\n",
       "      <th>database</th>\n",
       "      <th>id_schema</th>\n",
       "      <th>schema</th>\n",
       "      <th>id_table</th>\n",
       "      <th>table</th>\n",
       "      <th>is_commented</th>\n",
       "      <th>comment</th>\n",
       "    </tr>\n",
       "  </thead>\n",
       "  <tbody>\n",
       "    <tr>\n",
       "      <th>0</th>\n",
       "      <td>1</td>\n",
       "      <td>db_data_catalog</td>\n",
       "      <td>2</td>\n",
       "      <td>public</td>\n",
       "      <td>1</td>\n",
       "      <td>datamart_count_attribute</td>\n",
       "      <td>0</td>\n",
       "      <td>None</td>\n",
       "    </tr>\n",
       "    <tr>\n",
       "      <th>1</th>\n",
       "      <td>1</td>\n",
       "      <td>db_data_catalog</td>\n",
       "      <td>3</td>\n",
       "      <td>raw_metadata</td>\n",
       "      <td>2</td>\n",
       "      <td>hrsv_metadata_1</td>\n",
       "      <td>0</td>\n",
       "      <td>None</td>\n",
       "    </tr>\n",
       "    <tr>\n",
       "      <th>2</th>\n",
       "      <td>1</td>\n",
       "      <td>db_data_catalog</td>\n",
       "      <td>3</td>\n",
       "      <td>raw_metadata</td>\n",
       "      <td>3</td>\n",
       "      <td>hrsv_metadata_2</td>\n",
       "      <td>0</td>\n",
       "      <td>None</td>\n",
       "    </tr>\n",
       "  </tbody>\n",
       "</table>\n",
       "</div>"
      ],
      "text/plain": [
       "   id_db         database  id_schema        schema  id_table  \\\n",
       "0      1  db_data_catalog          2        public         1   \n",
       "1      1  db_data_catalog          3  raw_metadata         2   \n",
       "2      1  db_data_catalog          3  raw_metadata         3   \n",
       "\n",
       "                      table  is_commented comment  \n",
       "0  datamart_count_attribute             0    None  \n",
       "1           hrsv_metadata_1             0    None  \n",
       "2           hrsv_metadata_2             0    None  "
      ]
     },
     "execution_count": 121,
     "metadata": {},
     "output_type": "execute_result"
    }
   ],
   "source": [
    "evaluator.comment_table().head(3)"
   ]
  },
  {
   "cell_type": "code",
   "execution_count": 123,
   "id": "a63cf1ca-df33-4520-b959-e84eef3115f3",
   "metadata": {
    "tags": []
   },
   "outputs": [
    {
     "data": {
      "text/html": [
       "<div>\n",
       "<style scoped>\n",
       "    .dataframe tbody tr th:only-of-type {\n",
       "        vertical-align: middle;\n",
       "    }\n",
       "\n",
       "    .dataframe tbody tr th {\n",
       "        vertical-align: top;\n",
       "    }\n",
       "\n",
       "    .dataframe thead th {\n",
       "        text-align: right;\n",
       "    }\n",
       "</style>\n",
       "<table border=\"1\" class=\"dataframe\">\n",
       "  <thead>\n",
       "    <tr style=\"text-align: right;\">\n",
       "      <th></th>\n",
       "      <th>id_db</th>\n",
       "      <th>database</th>\n",
       "      <th>id_schema</th>\n",
       "      <th>schema</th>\n",
       "      <th>comment_perc</th>\n",
       "    </tr>\n",
       "  </thead>\n",
       "  <tbody>\n",
       "    <tr>\n",
       "      <th>0</th>\n",
       "      <td>1</td>\n",
       "      <td>db_data_catalog</td>\n",
       "      <td>2</td>\n",
       "      <td>public</td>\n",
       "      <td>0.0</td>\n",
       "    </tr>\n",
       "    <tr>\n",
       "      <th>1</th>\n",
       "      <td>1</td>\n",
       "      <td>db_data_catalog</td>\n",
       "      <td>3</td>\n",
       "      <td>raw_metadata</td>\n",
       "      <td>0.0</td>\n",
       "    </tr>\n",
       "    <tr>\n",
       "      <th>2</th>\n",
       "      <td>1</td>\n",
       "      <td>db_data_catalog</td>\n",
       "      <td>4</td>\n",
       "      <td>datamart_layer_1</td>\n",
       "      <td>0.0</td>\n",
       "    </tr>\n",
       "  </tbody>\n",
       "</table>\n",
       "</div>"
      ],
      "text/plain": [
       "   id_db         database  id_schema            schema  comment_perc\n",
       "0      1  db_data_catalog          2            public           0.0\n",
       "1      1  db_data_catalog          3      raw_metadata           0.0\n",
       "2      1  db_data_catalog          4  datamart_layer_1           0.0"
      ]
     },
     "execution_count": 123,
     "metadata": {},
     "output_type": "execute_result"
    }
   ],
   "source": [
    "evaluator.comment_schema().head(3)"
   ]
  },
  {
   "cell_type": "markdown",
   "id": "7a394856-ad42-4606-8930-8a08b377909b",
   "metadata": {},
   "source": [
    "### Add Records"
   ]
  },
  {
   "cell_type": "code",
   "execution_count": 212,
   "id": "ea021616-5af0-4bf8-a034-eed8fd2d2daa",
   "metadata": {
    "tags": []
   },
   "outputs": [
    {
     "name": "stdout",
     "output_type": "stream",
     "text": [
      "Agent 'Sharing Vision Indonesia' added successfully with ID 3.\n"
     ]
    },
    {
     "data": {
      "text/plain": [
       "3"
      ]
     },
     "execution_count": 212,
     "metadata": {},
     "output_type": "execute_result"
    }
   ],
   "source": [
    "data_service.add_agent(\"Sharing Vision Indonesia\", \"SVI\")"
   ]
  },
  {
   "cell_type": "code",
   "execution_count": 216,
   "id": "9abc05f8-5c85-4f6c-811a-2a2b581f2ddd",
   "metadata": {
    "tags": []
   },
   "outputs": [
    {
     "name": "stdout",
     "output_type": "stream",
     "text": [
      "Database 'Data Catalog added successfully with ID 5'\n"
     ]
    },
    {
     "data": {
      "text/plain": [
       "5"
      ]
     },
     "execution_count": 216,
     "metadata": {},
     "output_type": "execute_result"
    }
   ],
   "source": [
    "data_service.add_database(\"Data Catalog\", \"PostgreSQL\", id_agent=3, hostname=\"10.82.44.174\", port=5432, instance=\"db_data_catalog\", description=\"Katalog data HR SV\")"
   ]
  },
  {
   "cell_type": "markdown",
   "id": "bdcf3141-e53a-4dbd-bd4e-4466a6837c3d",
   "metadata": {
    "tags": []
   },
   "source": [
    "### Delete Records"
   ]
  },
  {
   "cell_type": "code",
   "execution_count": 199,
   "id": "5c7dd95e-fbe5-4498-8551-53915788e58f",
   "metadata": {
    "tags": []
   },
   "outputs": [
    {
     "name": "stdout",
     "output_type": "stream",
     "text": [
      "Agent with ID 1 deleted successfully.\n"
     ]
    }
   ],
   "source": [
    "data_service.delete_agent(1)"
   ]
  },
  {
   "cell_type": "code",
   "execution_count": 210,
   "id": "5faec1b2-d103-4e7d-9073-889772c72715",
   "metadata": {
    "tags": []
   },
   "outputs": [
    {
     "name": "stdout",
     "output_type": "stream",
     "text": [
      "Database with ID 1 deleted successfully.\n"
     ]
    }
   ],
   "source": [
    "data_service.delete_database(1)"
   ]
  },
  {
   "cell_type": "markdown",
   "id": "3c615807-7522-4752-bea9-db11b4069e4d",
   "metadata": {},
   "source": [
    "### Collect and Add Records"
   ]
  },
  {
   "cell_type": "code",
   "execution_count": 467,
   "id": "33762459-6552-4cb4-a881-4d367ef3fad2",
   "metadata": {
    "tags": []
   },
   "outputs": [],
   "source": [
    "test_db = config['test']['database']\n",
    "test_user = config['test']['user']\n",
    "test_host = config['test']['host']\n",
    "test_port = config['test']['port']\n",
    "test_password = config['test']['password']"
   ]
  },
  {
   "cell_type": "code",
   "execution_count": 331,
   "id": "7d81fa2a-1c3f-4299-b116-d06427ab9559",
   "metadata": {
    "tags": []
   },
   "outputs": [
    {
     "data": {
      "text/plain": [
       "[{'schema_name': 'aidm', 'db_instance': 'db_data_catalog'},\n",
       " {'schema_name': 'aidm_webview', 'db_instance': 'db_data_catalog'},\n",
       " {'schema_name': 'authentication', 'db_instance': 'db_data_catalog'},\n",
       " {'schema_name': 'dashboard', 'db_instance': 'db_data_catalog'},\n",
       " {'schema_name': 'datamart', 'db_instance': 'db_data_catalog'},\n",
       " {'schema_name': 'datamart_layer_1', 'db_instance': 'db_data_catalog'},\n",
       " {'schema_name': 'datamart_layer_2', 'db_instance': 'db_data_catalog'},\n",
       " {'schema_name': 'datamart_metadata', 'db_instance': 'db_data_catalog'},\n",
       " {'schema_name': 'hrsv_raw_dataset', 'db_instance': 'db_data_catalog'},\n",
       " {'schema_name': 'mariadb_data_raw_dataset', 'db_instance': 'db_data_catalog'},\n",
       " {'schema_name': 'mysql_classicmodels_raw_dataset',\n",
       "  'db_instance': 'db_data_catalog'},\n",
       " {'schema_name': 'mysql_sharing_vision_raw_dataset',\n",
       "  'db_instance': 'db_data_catalog'},\n",
       " {'schema_name': 'notification', 'db_instance': 'db_data_catalog'},\n",
       " {'schema_name': 'pg_toast', 'db_instance': 'db_data_catalog'},\n",
       " {'schema_name': 'public', 'db_instance': 'db_data_catalog'},\n",
       " {'schema_name': 'raw_metadata', 'db_instance': 'db_data_catalog'},\n",
       " {'schema_name': 'raw_metadata_2', 'db_instance': 'db_data_catalog'},\n",
       " {'schema_name': 'staging_metadata', 'db_instance': 'db_data_catalog'}]"
      ]
     },
     "execution_count": 331,
     "metadata": {},
     "output_type": "execute_result"
    }
   ],
   "source": [
    "external_data_service.get_database_schemas(\"postgresql\", test_db, test_user, test_host, test_port, test_password)"
   ]
  },
  {
   "cell_type": "code",
   "execution_count": 340,
   "id": "924539cd-1e76-4fc9-b474-a3484c98fdb2",
   "metadata": {
    "tags": []
   },
   "outputs": [
    {
     "data": {
      "text/plain": [
       "5"
      ]
     },
     "execution_count": 340,
     "metadata": {},
     "output_type": "execute_result"
    }
   ],
   "source": [
    "data_service.get_id_database_by_instance(\"db_data_catalog\")"
   ]
  },
  {
   "cell_type": "code",
   "execution_count": 463,
   "id": "34aa3900-0a54-453e-858c-c2c61ff60c76",
   "metadata": {
    "tags": []
   },
   "outputs": [
    {
     "name": "stdout",
     "output_type": "stream",
     "text": [
      "Schemas added successfully for database ID 5.\n"
     ]
    }
   ],
   "source": [
    "data_service.collect_and_add_schemas(\"postgresql\", test_db, test_user, test_host, test_port, test_password)"
   ]
  },
  {
   "cell_type": "code",
   "execution_count": 611,
   "id": "c69b8d10-2f3f-4091-8597-1e701cffcb0f",
   "metadata": {
    "tags": []
   },
   "outputs": [],
   "source": [
    "importlib.reload(metrics)\n",
    "evaluator = metrics.DataQualityEvaluator(engine)\n",
    "data_service = metrics.DataService(engine)\n",
    "external_data_service = metrics.ExternalDatabaseService()"
   ]
  },
  {
   "cell_type": "code",
   "execution_count": 546,
   "id": "dc0055dc-6076-4b17-a11e-b0b700f22171",
   "metadata": {
    "tags": []
   },
   "outputs": [
    {
     "data": {
      "text/plain": [
       "{'table_name': 'db_info',\n",
       " 'total_columns': 11,\n",
       " 'total_rows': 1,\n",
       " 'table_size': 49152,\n",
       " 'schema_name': 'aidm',\n",
       " 'database_name': 'db_data_catalog'}"
      ]
     },
     "execution_count": 546,
     "metadata": {},
     "output_type": "execute_result"
    }
   ],
   "source": [
    "external_data_service.get_database_table(\"postgresql\", test_db, test_user, test_host, test_port, test_password)[0]"
   ]
  },
  {
   "cell_type": "code",
   "execution_count": 550,
   "id": "454a089a-2d74-4f21-98e1-79f4936bd6d2",
   "metadata": {
    "tags": []
   },
   "outputs": [
    {
     "data": {
      "text/plain": [
       "9"
      ]
     },
     "execution_count": 550,
     "metadata": {},
     "output_type": "execute_result"
    }
   ],
   "source": [
    "data_service.get_id_schema_by_name(\"hrsv_raw_dataset\")"
   ]
  },
  {
   "cell_type": "code",
   "execution_count": 563,
   "id": "f18152be-0508-4d83-a77d-089964f9e7cf",
   "metadata": {
    "tags": []
   },
   "outputs": [
    {
     "data": {
      "text/plain": [
       "3"
      ]
     },
     "execution_count": 563,
     "metadata": {},
     "output_type": "execute_result"
    }
   ],
   "source": [
    "data_service.get_id_agent_from_database(5)"
   ]
  },
  {
   "cell_type": "code",
   "execution_count": 593,
   "id": "718b584a-3d14-494c-b3d7-5e591e5bf339",
   "metadata": {
    "tags": []
   },
   "outputs": [
    {
     "data": {
      "text/plain": [
       "'Sharing Vision Indonesia'"
      ]
     },
     "execution_count": 593,
     "metadata": {},
     "output_type": "execute_result"
    }
   ],
   "source": [
    "data_service.get_agent_from_id_agent(3)"
   ]
  },
  {
   "cell_type": "code",
   "execution_count": 595,
   "id": "a5b7d10e-f30e-4409-9f0e-d631ee6e6ef1",
   "metadata": {
    "tags": []
   },
   "outputs": [
    {
     "data": {
      "text/plain": [
       "'db_data_catalog'"
      ]
     },
     "execution_count": 595,
     "metadata": {},
     "output_type": "execute_result"
    }
   ],
   "source": [
    "data_service.get_database_from_id_database(5)"
   ]
  },
  {
   "cell_type": "code",
   "execution_count": 613,
   "id": "e52ee12e-5bad-4e37-82c1-fe1d34d2005b",
   "metadata": {
    "tags": []
   },
   "outputs": [],
   "source": [
    "data_service.collect_and_add_tables(\"postgresql\", test_db, test_user, test_host, test_port, test_password)"
   ]
  },
  {
   "cell_type": "code",
   "execution_count": 10,
   "id": "0f26cb28-3cf0-499d-9741-5a0a9a2ba9a9",
   "metadata": {
    "tags": []
   },
   "outputs": [],
   "source": [
    "table_name = {\"target_table\": [\"customer_info\", \"product_info\", \"office_info\", \"transaction_monthly\"]}\n",
    "metadata_table = {\"table\": [\"customer_info\", \"product_info\", \"office_info\"], \"label\":[\"Private\", \"Public\", \"Public\"]}"
   ]
  },
  {
   "cell_type": "code",
   "execution_count": null,
   "id": "db2a2817-f8ec-45c8-b710-ff3e6505e650",
   "metadata": {},
   "outputs": [],
   "source": []
  },
  {
   "cell_type": "code",
   "execution_count": 30,
   "id": "337529b5-9353-42da-8594-7665b46897fc",
   "metadata": {
    "tags": []
   },
   "outputs": [
    {
     "name": "stdout",
     "output_type": "stream",
     "text": [
      "{'table': ['customer_info', 'product_info', 'office_info', 'transaction_monthly'], 'label': [True, True, True, False]}\n"
     ]
    }
   ],
   "source": [
    "def security_label(table_name, metadata_table):\n",
    "    label = []\n",
    "    for table in table_name[\"target_table\"]:\n",
    "        label.append(table in metadata_table[\"table\"])\n",
    "    result = {\"table\":table_name[\"target_table\"], \"label\":label}\n",
    "    print(result)\n",
    "    \n",
    "security_label(table_name, metadata_table)"
   ]
  }
 ],
 "metadata": {
  "kernelspec": {
   "display_name": "Python 3 (ipykernel)",
   "language": "python",
   "name": "python3"
  },
  "language_info": {
   "codemirror_mode": {
    "name": "ipython",
    "version": 3
   },
   "file_extension": ".py",
   "mimetype": "text/x-python",
   "name": "python",
   "nbconvert_exporter": "python",
   "pygments_lexer": "ipython3",
   "version": "3.11.5"
  }
 },
 "nbformat": 4,
 "nbformat_minor": 5
}
